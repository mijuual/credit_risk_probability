{
 "cells": [
  {
   "cell_type": "code",
   "execution_count": 1,
   "id": "4191a045",
   "metadata": {},
   "outputs": [],
   "source": [
    "import sys\n",
    "sys.path.append('../script')  # Correct: point to the actual 'script' folder\n",
    "\n",
    "from feature_engineering import build_feature_pipeline, CustomerAggregator\n",
    "import pandas as pd\n"
   ]
  },
  {
   "cell_type": "code",
   "execution_count": 2,
   "id": "21be6606",
   "metadata": {},
   "outputs": [
    {
     "name": "stdout",
     "output_type": "stream",
     "text": [
      "Aggregated Features:\n",
      "        CustomerId  total_amount    avg_amount  transaction_count   std_amount\n",
      "0     CustomerId_1      -10000.0 -10000.000000                  1          NaN\n",
      "1    CustomerId_10      -10000.0 -10000.000000                  1          NaN\n",
      "2  CustomerId_1001       20000.0   4000.000000                  5  6558.963333\n",
      "3  CustomerId_1002        4225.0    384.090909                 11   560.498966\n",
      "4  CustomerId_1003       20000.0   3333.333333                  6  6030.478146\n",
      "Processed Shape: (95662, 16)\n"
     ]
    }
   ],
   "source": [
    "\n",
    "# Load your data\n",
    "df = pd.read_csv(\"../data/data.csv\")\n",
    "\n",
    "# Optional: Aggregate customer-level features\n",
    "agg_features = CustomerAggregator().fit_transform(df)\n",
    "print(\"Aggregated Features:\")\n",
    "print(agg_features.head())\n",
    "\n",
    "# Build and apply feature pipeline\n",
    "pipeline = build_feature_pipeline()\n",
    "processed_data = pipeline.fit_transform(df)\n",
    "print(\"Processed Shape:\", processed_data.shape)\n"
   ]
  }
 ],
 "metadata": {
  "kernelspec": {
   "display_name": ".venv",
   "language": "python",
   "name": "python3"
  },
  "language_info": {
   "codemirror_mode": {
    "name": "ipython",
    "version": 3
   },
   "file_extension": ".py",
   "mimetype": "text/x-python",
   "name": "python",
   "nbconvert_exporter": "python",
   "pygments_lexer": "ipython3",
   "version": "3.12.3"
  }
 },
 "nbformat": 4,
 "nbformat_minor": 5
}
