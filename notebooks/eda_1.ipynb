{
 "cells": [
  {
   "cell_type": "code",
   "execution_count": null,
   "id": "62366cd1",
   "metadata": {},
   "outputs": [],
   "source": [
    "import pandas as pd\n",
    "import matplotlib.pyplot as plt\n",
    "import seaborn as sns\n",
    "import numpy as np"
   ]
  },
  {
   "cell_type": "code",
   "execution_count": null,
   "id": "12ea0ed4",
   "metadata": {},
   "outputs": [],
   "source": [
    "\n",
    "\n",
    "# Load the dataset\n",
    "df = pd.read_csv('../data/data.csv')\n",
    "\n",
    "# Show the first 5 rows\n",
    "print(df.head())\n"
   ]
  },
  {
   "cell_type": "markdown",
   "id": "dd6d3b58",
   "metadata": {},
   "source": [
    "🧱 Understand the Structure\n",
    "check rows, columns, and types:"
   ]
  },
  {
   "cell_type": "code",
   "execution_count": null,
   "id": "15ac18d4",
   "metadata": {},
   "outputs": [],
   "source": [
    "# Shape of the dataset\n",
    "print(\"Number of rows and columns:\", df.shape)\n",
    "\n",
    "# Column names and data types\n",
    "print(\"\\nData types:\")\n",
    "print(df.dtypes)\n",
    "\n",
    "# More detailed info (non-null counts)\n",
    "print(\"\\nFull info:\")\n",
    "print(df.info())"
   ]
  },
  {
   "cell_type": "code",
   "execution_count": null,
   "id": "80b3e6a1",
   "metadata": {},
   "outputs": [],
   "source": [
    "# Summary of all columns (not just numerical)\n",
    "df.describe(include='all')\n",
    "\n",
    "# Summary statistics for numerical columns\n",
    "df.describe()\n"
   ]
  },
  {
   "cell_type": "markdown",
   "id": "bffb4cea",
   "metadata": {},
   "source": [
    "Distribution of Numerical Features"
   ]
  },
  {
   "cell_type": "code",
   "execution_count": null,
   "id": "9730c309",
   "metadata": {},
   "outputs": [],
   "source": [
    "# Set plot style\n",
    "sns.set(style=\"whitegrid\")\n",
    "\n",
    "# Automatically get list of numerical columns\n",
    "num_features = df.select_dtypes(include=['int64', 'float64']).columns.tolist()\n",
    "\n",
    "print(\"Numerical features:\", num_features)\n",
    "\n",
    "for col in num_features:\n",
    "    plt.figure(figsize=(8, 4))\n",
    "    sns.histplot(df[col], bins=100, kde=True)\n",
    "    plt.title(f'Distribution of {col}')\n",
    "    plt.xlabel(col)\n",
    "    plt.ylabel('Frequency')\n",
    "    plt.show()"
   ]
  },
  {
   "cell_type": "code",
   "execution_count": null,
   "id": "cdc3b289",
   "metadata": {},
   "outputs": [],
   "source": [
    "for col in num_features:\n",
    "    plt.figure(figsize=(8, 2))\n",
    "    sns.boxplot(x=df[col])\n",
    "    plt.title(f'Boxplot of {col}')\n",
    "    plt.show()"
   ]
  },
  {
   "cell_type": "markdown",
   "id": "bd145eb9",
   "metadata": {},
   "source": [
    "Plot With Log Transform\n",
    "Apply log transform to reduce skew and better visualize data spread:"
   ]
  },
  {
   "cell_type": "code",
   "execution_count": null,
   "id": "54c97ee0",
   "metadata": {},
   "outputs": [],
   "source": [
    "df['log_Amount'] = np.log1p(df['Amount'])  # log1p handles zero/negative values\n",
    "df['log_Value'] = np.log1p(df['Value'])\n",
    "\n",
    "# Plot log-transformed distributions\n",
    "for col in ['log_Amount', 'log_Value']:\n",
    "    plt.figure(figsize=(8, 4))\n",
    "    sns.histplot(df[col], bins=100, kde=True)\n",
    "    plt.title(f'Distribution of {col}')\n",
    "    plt.show()"
   ]
  },
  {
   "cell_type": "markdown",
   "id": "c975e8b0",
   "metadata": {},
   "source": [
    "categorical features"
   ]
  },
  {
   "cell_type": "code",
   "execution_count": null,
   "id": "2d197e35",
   "metadata": {},
   "outputs": [],
   "source": [
    "# Get object (categorical) columns\n",
    "cat_features = df.select_dtypes(include='object').columns.tolist()\n",
    "\n",
    "print(\"Categorical features:\", cat_features)\n",
    "\n",
    "for col in cat_features:\n",
    "    plt.figure(figsize=(10, 4))\n",
    "    sns.countplot(y=col, data=df, order=df[col].value_counts().index)\n",
    "    plt.title(f'Distribution of {col}')\n",
    "    plt.xlabel('Count')\n",
    "    plt.ylabel(col)\n",
    "    plt.tight_layout()\n",
    "    plt.show()"
   ]
  },
  {
   "cell_type": "markdown",
   "id": "5eb02075",
   "metadata": {},
   "source": [
    "Correlation Analysis (Numerical Features)"
   ]
  },
  {
   "cell_type": "code",
   "execution_count": null,
   "id": "3b4910c0",
   "metadata": {},
   "outputs": [],
   "source": [
    "# Select only numerical columns\n",
    "num_features = df.select_dtypes(include=['int64', 'float64']).columns.tolist()\n",
    "\n",
    "# Compute correlation matrix\n",
    "corr_matrix = df[num_features].corr()\n",
    "\n",
    "plt.figure(figsize=(10, 6))\n",
    "sns.heatmap(corr_matrix, annot=True, fmt=\".2f\", cmap='coolwarm', center=0)\n",
    "plt.title(\"Correlation Matrix (Numerical Features)\")\n",
    "plt.tight_layout()\n",
    "plt.show()"
   ]
  },
  {
   "cell_type": "markdown",
   "id": "240718a8",
   "metadata": {},
   "source": [
    "Identifying Missing Values"
   ]
  },
  {
   "cell_type": "code",
   "execution_count": null,
   "id": "20eaaf9f",
   "metadata": {},
   "outputs": [],
   "source": [
    "# Count missing values\n",
    "missing_counts = df.isnull().sum()\n",
    "missing_counts = missing_counts[missing_counts > 0].sort_values(ascending=False)\n",
    "\n",
    "# Print results\n",
    "print(\"Missing Value Counts:\")\n",
    "print(missing_counts)\n"
   ]
  },
  {
   "cell_type": "code",
   "execution_count": null,
   "id": "c0976dcc",
   "metadata": {},
   "outputs": [],
   "source": [
    "# Calculate percentage of missing values\n",
    "missing_percentage = df.isnull().mean() * 100\n",
    "missing_percentage = missing_percentage[missing_percentage > 0].sort_values(ascending=False)\n",
    "\n",
    "# Print results\n",
    "print(\"\\nMissing Value Percentage:\")\n",
    "print(missing_percentage)\n"
   ]
  },
  {
   "cell_type": "markdown",
   "id": "9e206f09",
   "metadata": {},
   "source": [
    "Outlier Detection using IQR"
   ]
  },
  {
   "cell_type": "code",
   "execution_count": null,
   "id": "21b17f80",
   "metadata": {},
   "outputs": [],
   "source": [
    "def detect_outliers_iqr(column):\n",
    "    Q1 = df[column].quantile(0.25)\n",
    "    Q3 = df[column].quantile(0.75)\n",
    "    IQR = Q3 - Q1\n",
    "    lower_bound = Q1 - 1.5 * IQR\n",
    "    upper_bound = Q3 + 1.5 * IQR\n",
    "    outlier_count = df[(df[column] < lower_bound) | (df[column] > upper_bound)].shape[0]\n",
    "    print(f\"{column}: {outlier_count} outliers (outside {lower_bound:.2f} to {upper_bound:.2f})\")\n",
    "\n",
    "# Run for all numerical columns\n",
    "for col in num_features:\n",
    "    detect_outliers_iqr(col)\n"
   ]
  }
 ],
 "metadata": {
  "language_info": {
   "name": "python"
  }
 },
 "nbformat": 4,
 "nbformat_minor": 5
}
