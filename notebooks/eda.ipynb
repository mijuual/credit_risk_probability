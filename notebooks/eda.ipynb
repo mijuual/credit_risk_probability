{
 "cells": [
  {
   "cell_type": "code",
   "execution_count": null,
   "id": "74cf1874",
   "metadata": {},
   "outputs": [],
   "source": [
    "import pandas as pd\n",
    "import matplotlib.pyplot as plt\n",
    "import seaborn as sns\n",
    "import numpy as np"
   ]
  },
  {
   "cell_type": "code",
   "execution_count": null,
   "id": "0301aab8",
   "metadata": {},
   "outputs": [],
   "source": [
    "\n",
    "\n",
    "# Load the dataset\n",
    "df = pd.read_csv('../data/data.csv')\n",
    "\n",
    "# Show the first 5 rows\n",
    "print(df.head())\n"
   ]
  },
  {
   "cell_type": "markdown",
   "id": "2e2367a2",
   "metadata": {},
   "source": [
    "🧱 Understand the Structure\n",
    "check rows, columns, and types:"
   ]
  },
  {
   "cell_type": "code",
   "execution_count": null,
   "id": "1082d7b0",
   "metadata": {},
   "outputs": [],
   "source": [
    "# Shape of the dataset\n",
    "print(\"Number of rows and columns:\", df.shape)\n",
    "\n",
    "# Column names and data types\n",
    "print(\"\\nData types:\")\n",
    "print(df.dtypes)\n",
    "\n",
    "# More detailed info (non-null counts)\n",
    "print(\"\\nFull info:\")\n",
    "print(df.info())"
   ]
  },
  {
   "cell_type": "code",
   "execution_count": null,
   "id": "b23916bf",
   "metadata": {},
   "outputs": [],
   "source": [
    "# Summary statistics for numerical columns\n",
    "df.describe()\n"
   ]
  },
  {
   "cell_type": "code",
   "execution_count": null,
   "id": "57f296ca",
   "metadata": {},
   "outputs": [],
   "source": [
    "# Summary of all columns (not just numerical)\n",
    "df.describe(include='all')\n"
   ]
  },
  {
   "cell_type": "markdown",
   "id": "de2df51c",
   "metadata": {},
   "source": [
    "Distribution of Numerical Features"
   ]
  },
  {
   "cell_type": "code",
   "execution_count": null,
   "id": "8e013471",
   "metadata": {},
   "outputs": [],
   "source": [
    "# Set plot style\n",
    "sns.set(style=\"whitegrid\")\n",
    "\n",
    "# Automatically get list of numerical columns\n",
    "num_features = df.select_dtypes(include=['int64', 'float64']).columns.tolist()\n",
    "\n",
    "print(\"Numerical features:\", num_features)\n",
    "\n",
    "for col in num_features:\n",
    "    plt.figure(figsize=(8, 4))\n",
    "    sns.histplot(df[col], bins=100, kde=True)\n",
    "    plt.title(f'Distribution of {col}')\n",
    "    plt.xlabel(col)\n",
    "    plt.ylabel('Frequency')\n",
    "    plt.show()"
   ]
  },
  {
   "cell_type": "code",
   "execution_count": null,
   "id": "4375c60c",
   "metadata": {},
   "outputs": [],
   "source": [
    "for col in num_features:\n",
    "    plt.figure(figsize=(8, 2))\n",
    "    sns.boxplot(x=df[col])\n",
    "    plt.title(f'Boxplot of {col}')\n",
    "    plt.show()"
   ]
  },
  {
   "cell_type": "markdown",
   "id": "d96896dd",
   "metadata": {},
   "source": [
    "Plot With Log Transform\n",
    "Apply log transform to reduce skew and better visualize data spread:"
   ]
  },
  {
   "cell_type": "code",
   "execution_count": null,
   "id": "b048b716",
   "metadata": {},
   "outputs": [],
   "source": [
    "df['log_Amount'] = np.log1p(df['Amount'])  # log1p handles zero/negative values\n",
    "df['log_Value'] = np.log1p(df['Value'])\n",
    "\n",
    "# Plot log-transformed distributions\n",
    "for col in ['log_Amount', 'log_Value']:\n",
    "    plt.figure(figsize=(8, 4))\n",
    "    sns.histplot(df[col], bins=100, kde=True)\n",
    "    plt.title(f'Distribution of {col}')\n",
    "    plt.show()"
   ]
  },
  {
   "cell_type": "markdown",
   "id": "c3a30d32",
   "metadata": {},
   "source": [
    "categorical features"
   ]
  },
  {
   "cell_type": "code",
   "execution_count": null,
   "id": "e30fa204",
   "metadata": {},
   "outputs": [],
   "source": [
    "# Get object (categorical) columns\n",
    "cat_features = df.select_dtypes(include='object').columns.tolist()\n",
    "\n",
    "print(\"Categorical features:\", cat_features)\n",
    "\n",
    "for col in cat_features:\n",
    "    plt.figure(figsize=(10, 4))\n",
    "    sns.countplot(y=col, data=df, order=df[col].value_counts().index)\n",
    "    plt.title(f'Distribution of {col}')\n",
    "    plt.xlabel('Count')\n",
    "    plt.ylabel(col)\n",
    "    plt.tight_layout()\n",
    "    plt.show()"
   ]
  },
  {
   "cell_type": "markdown",
   "id": "941a9f26",
   "metadata": {},
   "source": [
    "Correlation Analysis (Numerical Features)"
   ]
  },
  {
   "cell_type": "code",
   "execution_count": null,
   "id": "e5b965db",
   "metadata": {},
   "outputs": [],
   "source": [
    "# Select only numerical columns\n",
    "num_features = df.select_dtypes(include=['int64', 'float64']).columns.tolist()\n",
    "\n",
    "# Compute correlation matrix\n",
    "corr_matrix = df[num_features].corr()\n",
    "\n",
    "plt.figure(figsize=(10, 6))\n",
    "sns.heatmap(corr_matrix, annot=True, fmt=\".2f\", cmap='coolwarm', center=0)\n",
    "plt.title(\"Correlation Matrix (Numerical Features)\")\n",
    "plt.tight_layout()\n",
    "plt.show()"
   ]
  },
  {
   "cell_type": "markdown",
   "id": "6ccaef9f",
   "metadata": {},
   "source": [
    "Identifying Missing Values"
   ]
  },
  {
   "cell_type": "code",
   "execution_count": null,
   "id": "ffc620a0",
   "metadata": {},
   "outputs": [],
   "source": [
    "# Count missing values\n",
    "missing_counts = df.isnull().sum()\n",
    "missing_counts = missing_counts[missing_counts > 0].sort_values(ascending=False)\n",
    "\n",
    "# Print results\n",
    "print(\"Missing Value Counts:\")\n",
    "print(missing_counts)\n"
   ]
  },
  {
   "cell_type": "code",
   "execution_count": null,
   "id": "323d8d62",
   "metadata": {},
   "outputs": [],
   "source": [
    "# Calculate percentage of missing values\n",
    "missing_percentage = df.isnull().mean() * 100\n",
    "missing_percentage = missing_percentage[missing_percentage > 0].sort_values(ascending=False)\n",
    "\n",
    "# Print results\n",
    "print(\"\\nMissing Value Percentage:\")\n",
    "print(missing_percentage)\n"
   ]
  },
  {
   "cell_type": "markdown",
   "id": "4fd3095d",
   "metadata": {},
   "source": [
    "Outlier Detection using IQR"
   ]
  },
  {
   "cell_type": "code",
   "execution_count": 19,
   "id": "a43a28ff",
   "metadata": {},
   "outputs": [
    {
     "name": "stdout",
     "output_type": "stream",
     "text": [
      "CountryCode: 0 outliers (outside 256.00 to 256.00)\n",
      "Amount: 24441 outliers (outside -4325.00 to 7075.00)\n",
      "Value: 9021 outliers (outside -6812.50 to 12087.50)\n",
      "PricingStrategy: 15814 outliers (outside 2.00 to 2.00)\n",
      "FraudResult: 193 outliers (outside 0.00 to 0.00)\n"
     ]
    }
   ],
   "source": [
    "def detect_outliers_iqr(column):\n",
    "    Q1 = df[column].quantile(0.25)\n",
    "    Q3 = df[column].quantile(0.75)\n",
    "    IQR = Q3 - Q1\n",
    "    lower_bound = Q1 - 1.5 * IQR\n",
    "    upper_bound = Q3 + 1.5 * IQR\n",
    "    outlier_count = df[(df[column] < lower_bound) | (df[column] > upper_bound)].shape[0]\n",
    "    print(f\"{column}: {outlier_count} outliers (outside {lower_bound:.2f} to {upper_bound:.2f})\")\n",
    "\n",
    "# Run for all numerical columns\n",
    "for col in num_features:\n",
    "    detect_outliers_iqr(col)\n"
   ]
  }
 ],
 "metadata": {
  "kernelspec": {
   "display_name": ".venv",
   "language": "python",
   "name": "python3"
  },
  "language_info": {
   "codemirror_mode": {
    "name": "ipython",
    "version": 3
   },
   "file_extension": ".py",
   "mimetype": "text/x-python",
   "name": "python",
   "nbconvert_exporter": "python",
   "pygments_lexer": "ipython3",
   "version": "3.12.3"
  }
 },
 "nbformat": 4,
 "nbformat_minor": 5
}
