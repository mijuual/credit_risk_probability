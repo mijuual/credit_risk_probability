{
 "cells": [
  {
   "cell_type": "code",
   "execution_count": 2,
   "id": "377cb8e9",
   "metadata": {},
   "outputs": [],
   "source": [
    "import sys\n",
    "sys.path.append('../script')  # Correct: point to the actual 'script' folder\n",
    "\n",
    "from target_engineering import generate_proxy_target\n",
    "from feature_engineering import build_feature_pipeline, CustomerAggregator, TimeFeaturesExtractor\n",
    "import pandas as pd"
   ]
  },
  {
   "cell_type": "code",
   "execution_count": 3,
   "id": "68898212",
   "metadata": {},
   "outputs": [
    {
     "name": "stdout",
     "output_type": "stream",
     "text": [
      "✅ Merged features + target shape: (95662, 49)\n",
      "🔖 Target value counts:\n",
      " is_high_risk\n",
      "0    84636\n",
      "1    11026\n",
      "Name: count, dtype: int64\n"
     ]
    }
   ],
   "source": [
    "\n",
    "\n",
    "# Load original data\n",
    "df = pd.read_csv(\"../data/data.csv\")\n",
    "\n",
    "# Step 1: Generate the processed features\n",
    "pipeline = build_feature_pipeline()\n",
    "X_array = pipeline.fit_transform(df)\n",
    "\n",
    "# Step 2: Convert to DataFrame\n",
    "X_df = pd.DataFrame(X_array.toarray())  # Use toarray() for sparse matrices\n",
    "\n",
    "# Step 3: Generate proxy target\n",
    "target_df = generate_proxy_target(df)\n",
    "\n",
    "# Step 4: Merge using CustomerId\n",
    "# NOTE: CustomerId is not in X_df directly. So extract it from raw df and reset index\n",
    "customer_ids = df[\"CustomerId\"].reset_index(drop=True)\n",
    "X_df[\"CustomerId\"] = customer_ids\n",
    "\n",
    "# Merge processed features with target\n",
    "merged_df = pd.merge(X_df, target_df, on=\"CustomerId\", how=\"inner\")\n",
    "\n",
    "# Step 5: Drop CustomerId (optional, for training)\n",
    "final_X = merged_df.drop(columns=[\"CustomerId\", \"is_high_risk\"])\n",
    "final_y = merged_df[\"is_high_risk\"]\n",
    "\n",
    "# Step 6: Save for modeling\n",
    "merged_df.to_csv(\"../data/final_model_dataset.csv\", index=False)\n",
    "\n",
    "print(\"✅ Merged features + target shape:\", final_X.shape)\n",
    "print(\"🔖 Target value counts:\\n\", final_y.value_counts())\n"
   ]
  }
 ],
 "metadata": {
  "kernelspec": {
   "display_name": ".venv",
   "language": "python",
   "name": "python3"
  },
  "language_info": {
   "codemirror_mode": {
    "name": "ipython",
    "version": 3
   },
   "file_extension": ".py",
   "mimetype": "text/x-python",
   "name": "python",
   "nbconvert_exporter": "python",
   "pygments_lexer": "ipython3",
   "version": "3.12.3"
  }
 },
 "nbformat": 4,
 "nbformat_minor": 5
}
